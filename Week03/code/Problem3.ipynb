{
 "cells": [
  {
   "cell_type": "code",
   "execution_count": 1,
   "id": "04c40c54",
   "metadata": {},
   "outputs": [],
   "source": [
    "# load some libs\n",
    "import sys\n",
    "import time\n",
    "import sklearn\n",
    "import numpy as np\n",
    "import pandas as pd\n",
    "import matplotlib.pyplot as plt\n",
    "from sklearn.preprocessing import StandardScaler\n",
    "from sklearn.decomposition import PCA\n",
    "import random"
   ]
  },
  {
   "cell_type": "code",
   "execution_count": 2,
   "id": "0f37a7f7",
   "metadata": {},
   "outputs": [],
   "source": [
    "# process data\n",
    "data = pd.read_csv('../data/DailyReturn.csv', sep=',')\n",
    "new_data = data.drop(columns=['Unnamed: 0', 'SPY'])\n",
    "new_data = new_data.iloc[:, 0:10] # just select 10 company"
   ]
  },
  {
   "cell_type": "code",
   "execution_count": 3,
   "id": "2fc68763",
   "metadata": {},
   "outputs": [],
   "source": [
    "# calculate covariance, mean, Exponentially weighted(EW) covraiance ,PCA,\n",
    "\n",
    "# means\n",
    "means = new_data.mean().values\n",
    "# covariance\n",
    "norm = (new_data - new_data.mean()).to_numpy()\n",
    "cov = norm.T @ norm\n",
    "# EW covariance\n",
    "alpha = 0.97\n",
    "weights = (1-alpha)**np.arange(len(new_data))[::-1]\n",
    "norm_new_data = (new_data - new_data.mean()).fillna(0).to_numpy()\n",
    "EW_cov = ((weights * norm_new_data.T)@norm_new_data)/(weights.sum())\n",
    "# PCA\n",
    "scaler = StandardScaler()\n",
    "pca = PCA()\n",
    "new_data_scale = scaler.fit_transform(new_data)\n",
    "new_data_pca = pca.fit(new_data_scale)"
   ]
  },
  {
   "cell_type": "code",
   "execution_count": 4,
   "id": "2b95923c",
   "metadata": {},
   "outputs": [
    {
     "name": "stdout",
     "output_type": "stream",
     "text": [
      "[0.46872862 0.16703891 0.1016091  0.07137857 0.07000315 0.04807623\n",
      " 0.0333704  0.02619545 0.0130088  0.00059077]\n",
      "[16.77012739 10.01116093  7.80803804  6.54424509  6.48088633  5.37082305\n",
      "  4.4746219   3.96450136  2.79379339  0.59536601]\n"
     ]
    },
    {
     "data": {
      "text/plain": [
       "(10, 10)"
      ]
     },
     "execution_count": 4,
     "metadata": {},
     "output_type": "execute_result"
    }
   ],
   "source": [
    "print(new_data_pca.explained_variance_ratio_)\n",
    "print(new_data_pca.singular_values_)\n",
    "new_data_pca.get_covariance().shape"
   ]
  },
  {
   "cell_type": "code",
   "execution_count": 5,
   "id": "28af0c3a",
   "metadata": {},
   "outputs": [],
   "source": [
    "# implement a multivariate normal simulation\n",
    "def multi_norm_simu(means, cov, sample_num=200):\n",
    "    random.seed(1)\n",
    "    N = sample_num\n",
    "    B = np.linalg.cholesky(cov)\n",
    "\n",
    "    # norm() return one number from standard normal distribution\n",
    "    origin_simu = np.random.rand(len(means), sample_num)\n",
    "#     n1 = np.array([random.gauss(0, 1) for _ in range(sample_num)])\n",
    "#     n2 = np.array([random.gauss(0, 1) for _ in range(sample_num)])#features*samples\n",
    "    res = origin_simu.T.dot(B.T) + means\n",
    "    return res\n",
    "\n",
    "simu_data = multi_norm_simu(means, cov, sample_num=10)\n"
   ]
  },
  {
   "cell_type": "code",
   "execution_count": 6,
   "id": "b71bebc0",
   "metadata": {},
   "outputs": [
    {
     "data": {
      "text/plain": [
       "True"
      ]
     },
     "execution_count": 6,
     "metadata": {},
     "output_type": "execute_result"
    }
   ],
   "source": [
    "np.all(np.linalg.eigvals(cov) > (0))"
   ]
  },
  {
   "cell_type": "code",
   "execution_count": 7,
   "id": "16d2fd4a",
   "metadata": {},
   "outputs": [
    {
     "name": "stdout",
     "output_type": "stream",
     "text": [
      "[[ 1.51899353e-02  9.19076256e-03  9.66187195e-03  1.89518770e-02\n",
      "   7.21726303e-03  7.24539772e-03  7.19689871e-03  1.88000671e-02\n",
      "   2.85582662e-05  1.19474333e-03]\n",
      " [ 9.19076256e-03  1.50331953e-02  7.65306033e-03  1.78111426e-02\n",
      "   1.18631594e-02  1.17552908e-02  8.70510218e-03  2.05863333e-02\n",
      "  -3.69618795e-04 -9.47848600e-04]\n",
      " [ 9.66187195e-03  7.65306033e-03  1.53878232e-02  9.80299142e-03\n",
      "   9.13834648e-03  9.07235255e-03  8.98054825e-03  2.36333984e-02\n",
      "  -3.73608449e-04 -2.37331210e-04]\n",
      " [ 1.89518770e-02  1.78111426e-02  9.80299142e-03  1.21092434e-01\n",
      "   9.98668912e-03  1.05217227e-02  1.62231820e-02  4.31893713e-02\n",
      "  -1.23217728e-03  2.96852074e-03]\n",
      " [ 7.21726303e-03  1.18631594e-02  9.13834648e-03  9.98668912e-03\n",
      "   1.46054006e-02  1.42413857e-02  8.28189707e-03  1.94441449e-02\n",
      "   2.85216455e-04  6.98872426e-04]\n",
      " [ 7.24539772e-03  1.17552908e-02  9.07235255e-03  1.05217227e-02\n",
      "   1.42413857e-02  1.40676270e-02  8.52186379e-03  1.92480584e-02\n",
      "   2.48778231e-04  7.84250198e-04]\n",
      " [ 7.19689871e-03  8.70510218e-03  8.98054825e-03  1.62231820e-02\n",
      "   8.28189707e-03  8.52186379e-03  2.40031540e-02  1.64721313e-02\n",
      "   2.13396522e-03  7.87133133e-04]\n",
      " [ 1.88000671e-02  2.05863333e-02  2.36333984e-02  4.31893713e-02\n",
      "   1.94441449e-02  1.92480584e-02  1.64721313e-02  8.41957467e-02\n",
      "  -8.99847966e-04  1.53661357e-03]\n",
      " [ 2.85582662e-05 -3.69618795e-04 -3.73608449e-04 -1.23217728e-03\n",
      "   2.85216455e-04  2.48778231e-04  2.13396522e-03 -8.99847966e-04\n",
      "   5.33950624e-03  5.29919900e-03]\n",
      " [ 1.19474333e-03 -9.47848600e-04 -2.37331210e-04  2.96852074e-03\n",
      "   6.98872426e-04  7.84250198e-04  7.87133133e-04  1.53661357e-03\n",
      "   5.29919900e-03  1.29109099e-02]]\n",
      "[[ 1.96578202e-05  6.89070446e-05  3.03906577e-05  7.72574861e-05\n",
      "   2.85072688e-05  2.29218320e-05  5.33484911e-05  5.82630366e-05\n",
      "   1.62151024e-05 -1.45698193e-04]\n",
      " [ 6.89070446e-05  3.46984786e-04  1.38267679e-04  3.13600657e-04\n",
      "   1.36265155e-04  1.04731650e-04  3.09305124e-04  2.33782860e-04\n",
      "   1.15487590e-04 -1.01907864e-03]\n",
      " [ 3.03906577e-05  1.38267679e-04  5.65536869e-05  1.32214526e-04\n",
      "   5.49863247e-05  4.27515428e-05  1.19347276e-04  9.89615493e-05\n",
      "   4.27452031e-05 -3.78477785e-04]\n",
      " [ 7.72574861e-05  3.13600657e-04  1.32214526e-04  3.21870787e-04\n",
      "   1.27018333e-04  1.00234002e-04  2.58856210e-04  2.40983069e-04\n",
      "   8.73517603e-05 -7.77261476e-04]\n",
      " [ 2.85072688e-05  1.36265155e-04  5.49863247e-05  1.27018333e-04\n",
      "   5.39313736e-05  4.17173096e-05  1.19401024e-04  9.46726690e-05\n",
      "   4.36823005e-05 -3.86059242e-04]\n",
      " [ 2.29218320e-05  1.04731650e-04  4.27515428e-05  1.00234002e-04\n",
      "   4.17173096e-05  3.24461333e-05  9.03688905e-05  7.47669692e-05\n",
      "   3.24226017e-05 -2.86995103e-04]\n",
      " [ 5.33484911e-05  3.09305124e-04  1.19347276e-04  2.58856210e-04\n",
      "   1.19401024e-04  9.03688905e-05  2.86863901e-04  1.92380115e-04\n",
      "   1.12122196e-04 -9.85887756e-04]\n",
      " [ 5.82630366e-05  2.33782860e-04  9.89615493e-05  2.40983069e-04\n",
      "   9.46726690e-05  7.47669692e-05  1.92380115e-04  1.80973909e-04\n",
      "   6.44902359e-05 -5.74257574e-04]\n",
      " [ 1.62151024e-05  1.15487590e-04  4.27452031e-05  8.73517603e-05\n",
      "   4.36823005e-05  3.24226017e-05  1.12122196e-04  6.44902359e-05\n",
      "   4.60328077e-05 -4.03274851e-04]\n",
      " [-1.45698193e-04 -1.01907864e-03 -3.78477785e-04 -7.77261476e-04\n",
      "  -3.86059242e-04 -2.86995103e-04 -9.85887756e-04 -5.74257574e-04\n",
      "  -4.03274851e-04  3.53390807e-03]]\n"
     ]
    }
   ],
   "source": [
    "# generate correlation matrix and variance\n",
    "pearson_cor = np.corrcoef(new_data.values.T)\n",
    "print(cov)\n",
    "print(EW_cov)\n"
   ]
  },
  {
   "cell_type": "code",
   "execution_count": 27,
   "id": "dbb68165",
   "metadata": {},
   "outputs": [
    {
     "name": "stdout",
     "output_type": "stream",
     "text": [
      "time consuming: 0.0250s\n",
      "(25000, 10)\n",
      "time consuming: 0.0133s\n",
      "(25000, 10)\n",
      "time consuming: 0.0125s\n",
      "(25000, 10)\n",
      "time consuming: 0.0058s\n",
      "(25000, 10)\n"
     ]
    }
   ],
   "source": [
    "# simulate 25000 draws\n",
    "# direct simulation\n",
    "N = 25000\n",
    "\n",
    "start_time = time.time()\n",
    "simu_data_1 = np.random.multivariate_normal(means, cov, N)\n",
    "end_time = time.time()\n",
    "print(\"time consuming: {:.4f}s\".format(end_time - start_time))\n",
    "\n",
    "print(simu_data_1.shape)\n",
    "\n",
    "# PCA with 100% explained\n",
    "scaler = StandardScaler()\n",
    "pca = PCA()\n",
    "new_data_scale = scaler.fit_transform(new_data)\n",
    "new_data_pca = pca.fit(new_data)\n",
    "cov2 = new_data_pca.get_covariance()\n",
    "start_time = time.time()\n",
    "simu_data_2 = np.random.multivariate_normal(means,cov2, N)\n",
    "end_time = time.time()\n",
    "print(\"time consuming: {:.4f}s\".format(end_time - start_time))\n",
    "print(simu_data_2.shape)\n",
    "\n",
    "# PCA with 75% explained\n",
    "\n",
    "scaler = StandardScaler()\n",
    "pca = PCA(0.75)\n",
    "new_data_scale = scaler.fit_transform(new_data)\n",
    "new_data_pca = pca.fit(new_data)\n",
    "cov3 = new_data_pca.get_covariance()\n",
    "\n",
    "start_time = time.time()\n",
    "\n",
    "simu_data_3 = np.random.multivariate_normal(means,cov3, N)\n",
    "end_time = time.time()\n",
    "print(\"time consuming: {:.4f}s\".format(end_time - start_time))\n",
    "\n",
    "print(simu_data_3.shape)\n",
    "\n",
    "# PCA with 50% explained\n",
    "\n",
    "scaler = StandardScaler()\n",
    "pca = PCA(0.50)\n",
    "new_data_scale = scaler.fit_transform(new_data)\n",
    "new_data_pca = pca.fit(new_data)\n",
    "cov4 = new_data_pca.get_covariance()\n",
    "start_time = time.time()\n",
    "simu_data_4 = np.random.multivariate_normal(means,cov4, N)\n",
    "end_time = time.time()\n",
    "print(\"time consuming: {:.4f}s\".format(end_time - start_time))\n",
    "print(simu_data_4.shape)\n"
   ]
  },
  {
   "cell_type": "code",
   "execution_count": 28,
   "id": "bd22c395",
   "metadata": {},
   "outputs": [
    {
     "data": {
      "text/plain": [
       "(10, 10)"
      ]
     },
     "execution_count": 28,
     "metadata": {},
     "output_type": "execute_result"
    }
   ],
   "source": [
    "# compare L2 norm\n",
    "np.cov(simu_data_1.T).shape"
   ]
  },
  {
   "cell_type": "code",
   "execution_count": 29,
   "id": "aa6f0da6",
   "metadata": {},
   "outputs": [
    {
     "data": {
      "text/plain": [
       "array([[ 2.57335827e-04,  1.55344343e-04,  1.63483767e-04,\n",
       "         3.21248563e-04,  1.21865368e-04,  1.22333842e-04,\n",
       "         1.23214523e-04,  3.17287440e-04,  1.18213570e-06,\n",
       "         2.13183013e-05],\n",
       "       [ 1.55344343e-04,  2.53246132e-04,  1.29638176e-04,\n",
       "         3.01831143e-04,  2.00563447e-04,  1.98357096e-04,\n",
       "         1.48540597e-04,  3.46430286e-04, -6.09315616e-06,\n",
       "        -1.71715665e-05],\n",
       "       [ 1.63483767e-04,  1.29638176e-04,  2.60232219e-04,\n",
       "         1.61625816e-04,  1.53911274e-04,  1.52836656e-04,\n",
       "         1.52303659e-04,  3.96632931e-04, -6.11885327e-06,\n",
       "        -5.00035678e-06],\n",
       "       [ 3.21248563e-04,  3.01831143e-04,  1.61625816e-04,\n",
       "         2.06628076e-03,  1.67470023e-04,  1.75937229e-04,\n",
       "         2.69996421e-04,  7.22224877e-04, -1.98844501e-05,\n",
       "         5.49406905e-05],\n",
       "       [ 1.21865368e-04,  2.00563447e-04,  1.53911274e-04,\n",
       "         1.67470023e-04,  2.46034342e-04,  2.39634975e-04,\n",
       "         1.41012051e-04,  3.26470047e-04,  4.66499119e-06,\n",
       "         9.85919333e-06],\n",
       "       [ 1.22333842e-04,  1.98357096e-04,  1.52836656e-04,\n",
       "         1.75937229e-04,  2.39634975e-04,  2.36484657e-04,\n",
       "         1.44724247e-04,  3.22883274e-04,  4.23954789e-06,\n",
       "         1.16833778e-05],\n",
       "       [ 1.23214523e-04,  1.48540597e-04,  1.52303659e-04,\n",
       "         2.69996421e-04,  1.41012051e-04,  1.44724247e-04,\n",
       "         4.08311186e-04,  2.77999026e-04,  3.85005656e-05,\n",
       "         1.35359095e-05],\n",
       "       [ 3.17287440e-04,  3.46430286e-04,  3.96632931e-04,\n",
       "         7.22224877e-04,  3.26470047e-04,  3.22883274e-04,\n",
       "         2.77999026e-04,  1.41826506e-03, -1.66401639e-05,\n",
       "         2.23464277e-05],\n",
       "       [ 1.18213570e-06, -6.09315616e-06, -6.11885327e-06,\n",
       "        -1.98844501e-05,  4.66499119e-06,  4.23954789e-06,\n",
       "         3.85005656e-05, -1.66401639e-05,  9.18645369e-05,\n",
       "         9.19492490e-05],\n",
       "       [ 2.13183013e-05, -1.71715665e-05, -5.00035678e-06,\n",
       "         5.49406905e-05,  9.85919333e-06,  1.16833778e-05,\n",
       "         1.35359095e-05,  2.23464277e-05,  9.19492490e-05,\n",
       "         2.23394270e-04]])"
      ]
     },
     "execution_count": 29,
     "metadata": {},
     "output_type": "execute_result"
    }
   ],
   "source": [
    "np.cov(simu_data_2.T)"
   ]
  },
  {
   "cell_type": "code",
   "execution_count": 30,
   "id": "1b1bad9e",
   "metadata": {},
   "outputs": [
    {
     "data": {
      "text/plain": [
       "array([[ 2.73269065e-04,  1.19809639e-04,  1.14457204e-04,\n",
       "         3.14308102e-04,  1.09335728e-04,  1.10908353e-04,\n",
       "         1.09862536e-04,  3.46964810e-04, -4.08261017e-06,\n",
       "         8.44354377e-06],\n",
       "       [ 1.19809639e-04,  2.94598642e-04,  1.35290748e-04,\n",
       "         2.94582629e-04,  1.26378271e-04,  1.27577907e-04,\n",
       "         1.20833689e-04,  3.89721640e-04, -2.73064279e-06,\n",
       "         9.64029234e-06],\n",
       "       [ 1.14457204e-04,  1.35290748e-04,  3.07429956e-04,\n",
       "         1.67004508e-04,  1.39444823e-04,  1.37643345e-04,\n",
       "         1.19809077e-04,  4.07278302e-04, -2.46564705e-06,\n",
       "         5.94609545e-06],\n",
       "       [ 3.14308102e-04,  2.94582629e-04,  1.67004508e-04,\n",
       "         2.06223407e-03,  1.68179466e-04,  1.66202585e-04,\n",
       "         2.74231071e-04,  7.20510553e-04, -2.07976396e-05,\n",
       "         5.33858257e-05],\n",
       "       [ 1.09335728e-04,  1.26378271e-04,  1.39444823e-04,\n",
       "         1.68179466e-04,  2.90021932e-04,  1.28285750e-04,\n",
       "         1.13102459e-04,  3.79844137e-04, -3.79829063e-06,\n",
       "         7.90785394e-06],\n",
       "       [ 1.10908353e-04,  1.27577907e-04,  1.37643345e-04,\n",
       "         1.66202585e-04,  1.28285750e-04,  2.90825714e-04,\n",
       "         1.13001285e-04,  3.80976236e-04, -1.18689597e-06,\n",
       "         6.51252038e-06],\n",
       "       [ 1.09862536e-04,  1.20833689e-04,  1.19809077e-04,\n",
       "         2.74231071e-04,  1.13102459e-04,  1.13001285e-04,\n",
       "         2.72380797e-04,  3.51981767e-04, -2.32647590e-06,\n",
       "         8.11158120e-06],\n",
       "       [ 3.46964810e-04,  3.89721640e-04,  4.07278302e-04,\n",
       "         7.20510553e-04,  3.79844137e-04,  3.80976236e-04,\n",
       "         3.51981767e-04,  1.31567801e-03, -8.19343844e-06,\n",
       "         2.55931827e-05],\n",
       "       [-4.08261017e-06, -2.73064279e-06, -2.46564705e-06,\n",
       "        -2.07976396e-05, -3.79829063e-06, -1.18689597e-06,\n",
       "        -2.32647590e-06, -8.19343844e-06,  1.59810206e-04,\n",
       "         4.40917446e-07],\n",
       "       [ 8.44354377e-06,  9.64029234e-06,  5.94609545e-06,\n",
       "         5.33858257e-05,  7.90785394e-06,  6.51252038e-06,\n",
       "         8.11158120e-06,  2.55931827e-05,  4.40917446e-07,\n",
       "         1.63636588e-04]])"
      ]
     },
     "execution_count": 30,
     "metadata": {},
     "output_type": "execute_result"
    }
   ],
   "source": [
    "np.cov(simu_data_3.T)"
   ]
  },
  {
   "cell_type": "code",
   "execution_count": 31,
   "id": "03439a92",
   "metadata": {},
   "outputs": [
    {
     "name": "stdout",
     "output_type": "stream",
     "text": [
      "0.17756589070425732\n",
      "0.17957492771318537\n",
      "0.17860561659801294\n",
      "0.18284065473868427\n"
     ]
    }
   ],
   "source": [
    "norm_num_1 = np.linalg.norm(np.cov(simu_data_1.T), ord =2)\n",
    "norm_num_2 = np.linalg.norm(np.cov(simu_data_2.T), ord =2)*60# for different normal appraoch 60 days\n",
    "norm_num_3 = np.linalg.norm(np.cov(simu_data_3.T), ord =2)*60\n",
    "norm_num_4 = np.linalg.norm(np.cov(simu_data_4.T), ord =2)*60\n",
    "print(norm_num_1)\n",
    "print(norm_num_2)\n",
    "print(norm_num_3)\n",
    "print(norm_num_4)"
   ]
  },
  {
   "cell_type": "code",
   "execution_count": 33,
   "id": "5a9b2c06",
   "metadata": {},
   "outputs": [],
   "source": [
    "norm_num = np.linalg.norm(cov) "
   ]
  },
  {
   "cell_type": "code",
   "execution_count": 34,
   "id": "d272d9dd",
   "metadata": {},
   "outputs": [
    {
     "data": {
      "text/plain": [
       "0.19323538497896178"
      ]
     },
     "execution_count": 34,
     "metadata": {},
     "output_type": "execute_result"
    }
   ],
   "source": [
    "norm_num"
   ]
  },
  {
   "cell_type": "code",
   "execution_count": 25,
   "id": "c842d461",
   "metadata": {},
   "outputs": [
    {
     "data": {
      "text/plain": [
       "0.17901920243644903"
      ]
     },
     "execution_count": 25,
     "metadata": {},
     "output_type": "execute_result"
    }
   ],
   "source": [
    "0.0029836533739408173*60"
   ]
  },
  {
   "cell_type": "code",
   "execution_count": 26,
   "id": "f393de1f",
   "metadata": {},
   "outputs": [
    {
     "data": {
      "text/plain": [
       "0.1817718607673214"
      ]
     },
     "execution_count": 26,
     "metadata": {},
     "output_type": "execute_result"
    }
   ],
   "source": [
    "0.00302953101278869*60"
   ]
  },
  {
   "cell_type": "code",
   "execution_count": null,
   "id": "1b88c3eb",
   "metadata": {},
   "outputs": [],
   "source": []
  }
 ],
 "metadata": {
  "kernelspec": {
   "display_name": "Python 3",
   "language": "python",
   "name": "python3"
  },
  "language_info": {
   "codemirror_mode": {
    "name": "ipython",
    "version": 3
   },
   "file_extension": ".py",
   "mimetype": "text/x-python",
   "name": "python",
   "nbconvert_exporter": "python",
   "pygments_lexer": "ipython3",
   "version": "3.8.9 (default, Jul 19 2021, 09:37:30) \n[Clang 13.0.0 (clang-1300.0.27.3)]"
  },
  "vscode": {
   "interpreter": {
    "hash": "31f2aee4e71d21fbe5cf8b01ff0e069b9275f58929596ceb00d14d90e3e16cd6"
   }
  }
 },
 "nbformat": 4,
 "nbformat_minor": 5
}
