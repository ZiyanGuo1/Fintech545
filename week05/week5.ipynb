{
 "cells": [
  {
   "cell_type": "code",
   "execution_count": 1,
   "id": "356749e0-a5ed-47f7-a79c-50239b517d2b",
   "metadata": {},
   "outputs": [],
   "source": [
    "import pandas as pd\n",
    "import numpy as np\n",
    "from scipy.stats import norm, t\n",
    "from scipy.optimize import minimize\n",
    "from scipy.linalg import cholesky, eigvals\n",
    "from scipy import stats\n",
    "from scipy.optimize import minimize \n",
    "from statsmodels.tsa.arima.model import ARIMA\n",
    "import matplotlib.pyplot as plt\n",
    "import seaborn as sns\n",
    "import time\n",
    "# Load data from CSV\n",
    "data = pd.read_csv('problem1.csv', usecols=['x'])['x'].to_numpy()\n",
    "\n",
    "# Calculate VaR and ES for Normal distribution\n",
    "def calc_var_es_normal(returns, n=10000, alpha=0.05):\n",
    "    mu = np.mean(returns)\n",
    "    sigma = np.std(returns)\n",
    "    simu_returns = norm.rvs(mu, sigma, size=n)\n",
    "    simu_returns.sort()\n",
    "    n = alpha * simu_returns.size\n",
    "    iup = int(np.ceil(n))\n",
    "    idn = int(np.floor(n))\n",
    "    VaR = (simu_returns[iup] + simu_returns[idn]) / 2\n",
    "    ES = np.mean(simu_returns[0:idn])\n",
    "    return -VaR, -ES, simu_returns\n",
    "\n",
    "# Define negative log-likelihood function for t distribution\n",
    "def neg_log_likelihood_t(params, returns):\n",
    "    df, loc, scale = params\n",
    "    return -1 * np.sum(t.logpdf(returns, df=df, loc=loc, scale=scale))\n",
    "\n",
    "# Calculate VaR and ES for t distribution\n",
    "def calc_var_es_t(returns, n=10000, alpha=0.05):\n",
    "    constraints = [\n",
    "        {'type': 'ineq', 'fun': lambda x: x[0] - 1},\n",
    "        {'type': 'ineq', 'fun': lambda x: x[2]}\n",
    "    ]\n",
    "    \n",
    "    res = minimize(neg_log_likelihood_t, x0=[10, np.mean(returns), np.std(returns)], args=(returns,), constraints=constraints)\n",
    "    \n",
    "    df, loc, scale = res.x\n",
    "    simu_returns = t.rvs(df, loc=loc, scale=scale, size=n)\n",
    "    simu_returns.sort()\n",
    "    n = alpha * simu_returns.size\n",
    "    iup = int(np.ceil(n))\n",
    "    idn = int(np.floor(n))\n",
    "    VaR = (simu_returns[iup] + simu_returns[idn]) / 2\n",
    "    ES = np.mean(simu_returns[0:idn])\n",
    "    return -VaR, -ES, simu_returns\n",
    "\n",
    "\n",
    "\n",
    "\n",
    "\n"
   ]
  },
  {
   "cell_type": "code",
   "execution_count": 2,
   "id": "e9cda465-bbee-4f1f-bb8b-0b8b741faf40",
   "metadata": {},
   "outputs": [
    {
     "name": "stdout",
     "output_type": "stream",
     "text": [
      "VaR_norm = 0.07993, ES_norm = 0.10025\n",
      "VaR_t = 0.07518, ES_t = 0.11176\n"
     ]
    }
   ],
   "source": [
    "# Calculate VaR and ES for both distributions\n",
    "VaR_norm, ES_norm, simu_norm = calc_var_es_normal(data)\n",
    "VaR_t, ES_t, simu_t = calc_var_es_t(data)\n",
    "\n",
    "# Print results\n",
    "print(f\"VaR_norm = {VaR_norm:.5f}, ES_norm = {ES_norm:.5f}\")\n",
    "print(f\"VaR_t = {VaR_t:.5f}, ES_t = {ES_t:.5f}\")"
   ]
  },
  {
   "cell_type": "code",
   "execution_count": 3,
   "id": "fc19b6d6-4808-4cc0-aed2-1c112aa40cd1",
   "metadata": {},
   "outputs": [
    {
     "data": {
      "image/png": "[encoded data removed]",
      "text/plain": [
       "<Figure size 576x432 with 1 Axes>"
      ]
     },
     "metadata": {
      "needs_background": "light"
     },
     "output_type": "display_data"
    }
   ],
   "source": [
    "fig, ax = plt.subplots(figsize=(8, 6))\n",
    "sns.histplot(data, bins=80, kde=True, stat='density', ax=ax, color='blue', alpha=0.5)\n",
    "sns.kdeplot(simu_norm, label='Normal', color='green', ax=ax)\n",
    "sns.kdeplot(simu_t, label='t', color='red', ax=ax)\n",
    "ax.set_xlim(-0.3, 0.3)\n",
    "ax.legend()\n",
    "plt.show()\n"
   ]
  },
  {
   "cell_type": "code",
   "execution_count": 4,
   "id": "f86d3c11-8d2a-4ba0-bde2-1a0b2d885521",
   "metadata": {},
   "outputs": [],
   "source": [
    "import library"
   ]
  },
  {
   "cell_type": "code",
   "execution_count": 5,
   "id": "eb6e20ad-268a-424d-a262-2bcef1cdb56e",
   "metadata": {},
   "outputs": [
    {
     "name": "stdout",
     "output_type": "stream",
     "text": [
      "(249,)\n",
      "(249, 249)\n"
     ]
    }
   ],
   "source": [
    "#2.1\n",
    "return_data = np.genfromtxt('DailyPrices.csv', delimiter=',').T\n",
    "return_data = np.delete(return_data, 0, 0)\n",
    "return_data = np.delete(return_data, 0, 1)\n",
    "return_data = np.matrix(np.fliplr(return_data))\n",
    "weights = library.calculate_exponential_weights(return_data.shape[1], lamb=0.97)\n",
    "print(weights.shape)\n",
    "\n",
    "ew_cov = library.calculate_ewcov(return_data, lamb=0.97)\n",
    "print(ew_cov.shape)"
   ]
  },
  {
   "cell_type": "code",
   "execution_count": 6,
   "id": "02abdd01-cfef-4358-9035-3698bdbb40c8",
   "metadata": {},
   "outputs": [],
   "source": [
    "#2.2\n",
    "n = 500\n",
    "sigma = np.full((n,n),0.9)\n",
    "for i in range(n):\n",
    "    sigma[i,i]=1.0\n",
    "sigma[0,1] = 0.7357\n",
    "sigma[1,0] = 0.7357"
   ]
  },
  {
   "cell_type": "code",
   "execution_count": 7,
   "id": "fa166965-1867-4b42-b47e-0909ca589c41",
   "metadata": {},
   "outputs": [
    {
     "name": "stdout",
     "output_type": "stream",
     "text": [
      "Sigma with near_psd():  True\n",
      "Sigma with Higham_psd():  True\n"
     ]
    }
   ],
   "source": [
    "print(\"Sigma with near_psd(): \", library.is_psd(library.near_psd(sigma)))\n",
    "print(\"Sigma with Higham_psd(): \", library.is_psd(library.Higham_psd(sigma)))"
   ]
  },
  {
   "cell_type": "code",
   "execution_count": 8,
   "id": "6a799f1a-d07b-4cdb-b37b-e7e1bb6efc92",
   "metadata": {},
   "outputs": [
    {
     "name": "stdout",
     "output_type": "stream",
     "text": [
      "(500, 25000)\n",
      "(500, 25000)\n"
     ]
    }
   ],
   "source": [
    "#2.3\n",
    "n = 500\n",
    "sigma = np.full((n, n), 0.9)\n",
    "np.fill_diagonal(sigma, 1.0)\n",
    "sigma[0, 1] = 0.7357\n",
    "sigma[1, 0] = 0.7357\n",
    "\n",
    "ew_cov = library.calculate_ewcov(sigma, lamb=0.94)\n",
    "\n",
    "res_d = library.direct_simulation(ew_cov, n_samples=25000)\n",
    "res_pca = library.pca_simulation(ew_cov, pct_explained=0.75, n_samples=25000)\n",
    "print(res_d.shape)\n",
    "print(res_pca.shape)"
   ]
  },
  {
   "cell_type": "code",
   "execution_count": 9,
   "id": "37bb9e12-0ffe-4a67-a70f-4a9dfd97cc9e",
   "metadata": {},
   "outputs": [
    {
     "name": "stdout",
     "output_type": "stream",
     "text": [
      "Normal VaR: 37.2251497585685\n",
      "Exponentially Weighted Normal VaR: 0.0\n",
      "Student's t VaR: 36.97691114169762\n",
      "Historical VaR: -0.09661060033085396\n"
     ]
    }
   ],
   "source": [
    "#2.4\n",
    "sample_return = (return_data[0] - return_data[0].mean()).T\n",
    "sample = np.random.normal(1,0)\n",
    "mu = 0  # mean of the normal distribution\n",
    "sigma = 1  # standard deviation of the normal distribution\n",
    "rv = np.random.normal(mu, sigma)  # create a random variable from the normal distribution\n",
    "\n",
    "var_norm = library.normal_var(sample_return)\n",
    "var_ew_norm = library.ewcov_normal_var(sample_return)\n",
    "var_t = library.t_var(sample_return)\n",
    "var_hist = library.historic_var(rv)\n",
    "\n",
    "print(\"Normal VaR:\", var_norm)\n",
    "print(\"Exponentially Weighted Normal VaR:\", var_ew_norm)\n",
    "print(\"Student's t VaR:\", var_t)\n",
    "print(\"Historical VaR:\", var_hist)\n"
   ]
  },
  {
   "cell_type": "code",
   "execution_count": 10,
   "id": "75ead698-6632-46cd-a572-547d46a31586",
   "metadata": {},
   "outputs": [
    {
     "name": "stdout",
     "output_type": "stream",
     "text": [
      "-1.0\n"
     ]
    }
   ],
   "source": [
    "#2.5\n",
    "es = library.calculate_es(sample)\n",
    "print(es)"
   ]
  },
  {
   "cell_type": "code",
   "execution_count": 11,
   "id": "a562d16f-f399-48d6-9807-817bca03175d",
   "metadata": {},
   "outputs": [
    {
     "name": "stderr",
     "output_type": "stream",
     "text": [
      "/tmp/ipykernel_3203/7812330.py:31: FutureWarning: The frame.append method is deprecated and will be removed from pandas in a future version. Use pandas.concat instead.\n",
      "  portfolios = portfolios.append(total_holdings)\n"
     ]
    },
    {
     "name": "stdout",
     "output_type": "stream",
     "text": [
      "Portfolio A VaR: 8805.507754785509\n",
      "Portfolio A ES: 10438.09016614881\n",
      "\n",
      "Portfolio B VaR: 6981.307577790557\n",
      "Portfolio B ES: 8945.79531744502\n",
      "\n",
      "Portfolio C VaR: 5496.294533012176\n",
      "Portfolio C ES: 7436.626667146727\n",
      "\n",
      "Portfolio Total VaR: 21076.418322771402\n",
      "Portfolio Total ES: 26687.791306205952\n",
      "\n"
     ]
    }
   ],
   "source": [
    "import pandas as pd\n",
    "import numpy as np\n",
    "import scipy.stats\n",
    "from scipy.stats import t\n",
    "\n",
    "def calculate_var(data, mean=0, alpha=0.05):\n",
    "    # Calculate the value-at-risk (VaR) of a given data set at a specified confidence level\n",
    "    return mean - np.quantile(data, alpha)\n",
    "\n",
    "def calculate_es(data, mean=0, alpha=0.05):\n",
    "    # Calculate the expected shortfall (ES) of a given data set at a specified confidence level\n",
    "    var = calculate_var(data, mean, alpha)\n",
    "    return -np.mean(data[data <= -var])\n",
    "\n",
    "def pd_calculate_returns(prices, method=\"arithmetic\"):\n",
    "    price_change_percent = (prices / prices.shift(1))[1:]\n",
    "    if method == \"arithmetic\":\n",
    "        return price_change_percent - 1\n",
    "    elif method == \"log\":\n",
    "        return np.log(price_change_percent)\n",
    "\n",
    "# load in data and calculate returns\n",
    "prices = pd.read_csv(\"DailyPrices.csv\", parse_dates=[0], index_col=0)\n",
    "portfolios = pd.read_csv(\"portfolio.csv\")\n",
    "returns = pd_calculate_returns(prices)\n",
    "\n",
    "# Combine the portfolios to get a total one and append it to the end for easier calculation.\n",
    "total_holdings = portfolios.groupby('Stock').sum('Holding')\n",
    "total_holdings['Portfolio'] = 'Total'\n",
    "total_holdings = total_holdings.reset_index()\n",
    "portfolios = portfolios.append(total_holdings)\n",
    "\n",
    "t_params = {}\n",
    "hist_data = []\n",
    "sim_data = []\n",
    "for col in returns:\n",
    "    stock_returns = returns[col]\n",
    "    # we assume the expected return is 0\n",
    "    stock_returns -= stock_returns.mean()\n",
    "    hist_data.append(stock_returns)\n",
    "    # fit a generalized t distribution to each stock\n",
    "    result = t.fit(stock_returns, method=\"MLE\")\n",
    "    df, loc, scale = result\n",
    "    t_params[col] = [df, loc, scale]\n",
    "    # simulate based on t distribution for each stock\n",
    "    sim_data.append(t(df, loc, scale).rvs(10000))\n",
    "hist_data = np.array(hist_data)\n",
    "sim_data = np.array(sim_data)\n",
    "\n",
    "# create pandas dataframe for the returns\n",
    "historical_returns = pd.DataFrame(columns=returns.columns, data=hist_data.T)\n",
    "simulated_returns = pd.DataFrame(columns=returns.columns, data=sim_data.T)\n",
    "\n",
    "# for historical data\n",
    "current_prices = pd.DataFrame({\"Price\":prices.iloc[-1]})\n",
    "\n",
    "for portfolio_index, portfolio in portfolios.groupby('Portfolio'):\n",
    "    portfolio = portfolio.set_index('Stock')\n",
    "    portfolio = portfolio.join(current_prices.loc[portfolio.index])\n",
    "\n",
    "    hist_returns = historical_returns[portfolio.index]\n",
    "    sim_prices_change = hist_returns * portfolio['Price'].T\n",
    "    sim_values_change = sim_prices_change @ portfolio['Holding']\n",
    "\n",
    "    historic_var = calculate_var(sim_values_change)\n",
    "    historic_es = calculate_es(sim_values_change)\n",
    "    print(f\"Portfolio {portfolio_index} \" + \"VaR: \" + str(historic_var))\n",
    "    print(f\"Portfolio {portfolio_index} \" + \"ES: \" + str(historic_es))\n",
    "    print()\n"
   ]
  },
  {
   "cell_type": "code",
   "execution_count": 12,
   "id": "379c896f-05a8-4efd-b4b8-069cf6fd2cf5",
   "metadata": {},
   "outputs": [
    {
     "name": "stdout",
     "output_type": "stream",
     "text": [
      "Portfolio A VaR: 1877.1408461763208\n",
      "Portfolio A ES: 1877.1408461763208\n",
      "\n",
      "Portfolio B VaR: 1869.1578218921422\n",
      "Portfolio B ES: 1869.1578218921422\n",
      "\n",
      "Portfolio C VaR: 1589.7015996204807\n",
      "Portfolio C ES: 1589.7015996204807\n",
      "\n",
      "Portfolio Total VaR: 3083.318415961621\n",
      "Portfolio Total ES: 3083.318415961621\n",
      "\n"
     ]
    }
   ],
   "source": [
    "for portfolio_index, portfolio in portfolios.groupby('Portfolio'):\n",
    "  portfolio = portfolio.set_index('Stock')\n",
    "  portfolio = portfolio.join(current_prices.loc[portfolio.index])\n",
    "\n",
    "  sim_returns = simulated_returns[portfolio.index]\n",
    "  sim_prices_change = sim_returns * portfolio['Price'].T\n",
    "  sim_values_change = sim_prices_change @ portfolio['Holding']\n",
    "\n",
    "  sim_var = library.calculate_var(sim_values_change)\n",
    "  sim_es = library.calculate_es(sim_values_change)\n",
    "  print(f\"Portfolio {portfolio_index} \" + \"VaR: \" + str(sim_var))\n",
    "  print(f\"Portfolio {portfolio_index} \" + \"ES: \" + str(sim_es))\n",
    "  print()\n"
   ]
  },
  {
   "cell_type": "code",
   "execution_count": 16,
   "id": "891533d3-5388-4364-8e0b-3b04fe7d5a7c",
   "metadata": {},
   "outputs": [],
   "source": []
  },
  {
   "cell_type": "code",
   "execution_count": null,
   "id": "bd572663-a77a-4551-95a2-9e6f77e52d6a",
   "metadata": {},
   "outputs": [],
   "source": []
  },
  {
   "cell_type": "code",
   "execution_count": null,
   "id": "98a26d6d-f072-4d92-99d0-8e19f28728be",
   "metadata": {},
   "outputs": [],
   "source": []
  },
  {
   "cell_type": "code",
   "execution_count": null,
   "id": "1e4c3387-a4bd-4a8b-a9b9-431cb6c1a2be",
   "metadata": {},
   "outputs": [],
   "source": []
  }
 ],
 "metadata": {
  "kernelspec": {
   "display_name": "Python 3 (ipykernel)",
   "language": "python",
   "name": "python3"
  },
  "language_info": {
   "codemirror_mode": {
    "name": "ipython",
    "version": 3
   },
   "file_extension": ".py",
   "mimetype": "text/x-python",
   "name": "python",
   "nbconvert_exporter": "python",
   "pygments_lexer": "ipython3",
   "version": "3.9.7"
  }
 },
 "nbformat": 4,
 "nbformat_minor": 5
}
